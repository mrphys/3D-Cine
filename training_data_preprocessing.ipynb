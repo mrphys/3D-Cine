{
 "cells": [
  {
   "cell_type": "code",
   "execution_count": null,
   "metadata": {},
   "outputs": [],
   "source": [
    "## Notebook for generating LowRes, LowResResp and LowResRespBand training data from HighRes data\n",
    "\n",
    "import os\n",
    "os.environ[\"CUDA_VISIBLE_DEVICES\"] = \"0\"\n",
    "import numpy as np\n",
    "from tqdm import tqdm\n",
    "from process_utils import *"
   ]
  },
  {
   "cell_type": "code",
   "execution_count": null,
   "metadata": {},
   "outputs": [],
   "source": [
    "#Makes directory for training data\n",
    "\n",
    "if not os.path.exists('./training_data'):\n",
    "    os.makedirs('./training_data')"
   ]
  },
  {
   "cell_type": "code",
   "execution_count": null,
   "metadata": {},
   "outputs": [],
   "source": [
    "# For MMWHS data\n",
    "mmwhs_number = 1 #Pick how many datasets to process\n",
    "for pat in tqdm(range(mmwhs_number)): \n",
    " \n",
    "\tfor aug in range(10): #Each dataset is augmented 10 times\n",
    "\t\ttarget = np.load(f'./seg_data/High_Res_MMWHS_NoAug_{pat}.npy')\n",
    "\t\ttarget = target[...,:1]\n",
    "\t\tif aug !=0:\n",
    "\t\t\ttarget = rotation_augmentation(target) #Rotates volume\n",
    "\t\n",
    "\t\t#Creates low-res data through slice averaging\n",
    "\t\tthick_slice =[]\n",
    "\t\tfor i in range(28):\n",
    "\t\t\tcombined = target[i*4:(i+1)*4,:,:,:]\n",
    "\t\t\tcombined = np.mean(combined,axis=0)\n",
    "\t\t\tthick_slice.append(combined)\n",
    "\t\tthick_slice = np.array(thick_slice)\n",
    "\n",
    "\t\tresp_def , deformed_downsampled_vols = (respiratory_deformations([thick_slice])) #Applies respiratory deformations to low-res data\n",
    "  \n",
    "\t\tbanded = add_bands(deformed_downsampled_vols[0]) #Applies contrast changes to repiratory artefacted data\n",
    "  \n",
    "\t\tnp.save(f'./training_data/High_Res_MMWHS_{pat*10 + aug}.npy', norm(target))\n",
    "\t\tnp.save(f'./training_data/Low_Res_MMWHS_{pat*10 + aug}.npy', norm(thick_slice))\n",
    "\t\tnp.save(f'./training_data/Low_Res_resp_MMWHS_{pat*10 + aug}.npy', norm(deformed_downsampled_vols[0]))\n",
    "\t\tnp.save(f'./training_data/Low_Res_resp_band_MMWHS_{pat*10 + aug}.npy', norm(banded))"
   ]
  },
  {
   "cell_type": "code",
   "execution_count": null,
   "metadata": {},
   "outputs": [],
   "source": [
    "# For HVSMR data\n",
    "hvsmr_number = 1 #Pick how many datasets to process\n",
    "for pat in tqdm(range(hvsmr_number)):\n",
    " \n",
    "\tfor aug in range(10): #Each dataset is augmented 10 times\n",
    "\t\ttarget = np.load(f'./seg_data/High_Res_HVSMR_NoAug_{pat}.npy')\n",
    "\t\ttarget = target[...,:1]\n",
    "\t\tif aug !=0:\n",
    "\t\t\ttarget = rotation_augmentation(target) #Rotates volume\n",
    "\t\n",
    "        #Creates low-res data through slice averaging\n",
    "\t\tthick_slice =[]\n",
    "\t\tfor i in range(28):\n",
    "\t\t\tcombined = target[i*4:(i+1)*4,:,:,:]\n",
    "\t\t\tcombined = np.mean(combined,axis=0)\n",
    "\t\t\tthick_slice.append(combined)\n",
    "\t\tthick_slice = np.array(thick_slice)\n",
    "\n",
    "\t\tresp_def , deformed_downsampled_vols = (respiratory_deformations([thick_slice])) #Applies respiratory deformations to low-res data\n",
    "  \n",
    "\t\tbanded = add_bands(deformed_downsampled_vols[0]) #Applies contrast chnages to repiratory artefacted data\n",
    "  \n",
    "\t\tnp.save(f'./training_data/High_Res_HVSMR_{pat*10 + aug}.npy', norm(target))\n",
    "\t\tnp.save(f'./training_data/Low_Res_HVSMR_{pat*10 + aug}.npy', norm(thick_slice))\n",
    "\t\tnp.save(f'./training_data/Low_Res_resp_HVSMR_{pat*10 + aug}.npy', norm(deformed_downsampled_vols[0]))\n",
    "\t\tnp.save(f'./training_data/Low_Res_resp_band_HVSMR_{pat*10 + aug}.npy', norm(banded))"
   ]
  }
 ],
 "metadata": {
  "kernelspec": {
   "display_name": "Python 3",
   "language": "python",
   "name": "python3"
  },
  "language_info": {
   "codemirror_mode": {
    "name": "ipython",
    "version": 3
   },
   "file_extension": ".py",
   "mimetype": "text/x-python",
   "name": "python",
   "nbconvert_exporter": "python",
   "pygments_lexer": "ipython3",
   "version": "3.8.10"
  }
 },
 "nbformat": 4,
 "nbformat_minor": 2
}
